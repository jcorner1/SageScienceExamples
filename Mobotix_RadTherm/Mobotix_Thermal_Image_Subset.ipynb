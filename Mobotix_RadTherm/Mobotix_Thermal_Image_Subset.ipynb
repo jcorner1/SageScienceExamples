{
 "cells": [
  {
   "cell_type": "code",
   "execution_count": 1,
   "metadata": {},
   "outputs": [],
   "source": [
    "#Import Mods\n",
    "import pandas as pd\n",
    "import numpy as np\n",
    "\n",
    "import glob\n",
    "\n",
    "import matplotlib.pyplot as plt\n",
    "\n",
    "from datetime import datetime\n",
    "from datetime import timedelta\n",
    "\n",
    "from PIL import Image, ImageDraw"
   ]
  },
  {
   "cell_type": "code",
   "execution_count": 2,
   "metadata": {},
   "outputs": [],
   "source": [
    "#Grab files from directory and sort them into correct order\n",
    "files = []\n",
    "for filename in glob.glob(\"/lcrc/project/waggle/public_html/private/training_data/waggle_area510/mobotix/thermal/\"\n",
    "                          \"*.thermal.celsius.csv\"):\n",
    "    files.append(filename)\n",
    "files.sort()"
   ]
  },
  {
   "cell_type": "code",
   "execution_count": null,
   "metadata": {},
   "outputs": [],
   "source": [
    "#Run through all images and save off average temperature for each\n",
    "image_time = []\n",
    "\n",
    "for path in files:\n",
    "    file = pd.read_csv(path)\n",
    "    image_time.append(datetime.fromtimestamp(int(path[86:96])) + timedelta(hours = 5))\n",
    "    image_array = []\n",
    "    mask_image = []\n",
    "    \n",
    "    \n",
    "    for i in range(file.size):\n",
    "        if i >= 6:\n",
    "            data = file.values[i][0]\n",
    "            data = data.split(';')\n",
    "            array = np.array(data)\n",
    "            array = array.astype(np.float)\n",
    "            image_array.append(array)\n",
    "            \n",
    "    image_array = np.array(image_array)\n",
    "    "
   ]
  },
  {
   "cell_type": "code",
   "execution_count": 3,
   "metadata": {},
   "outputs": [],
   "source": [
    "sky_temp = []\n",
    "image_time = []\n",
    "\n",
    "timeset = datetime(2021, 4, 15, 5, 0)\n",
    "\n",
    "for path in files:\n",
    "    file = pd.read_csv(path)\n",
    "    image_time.append(timeset)\n",
    "    time_change = timedelta(minutes=7)\n",
    "    timeset = timeset + time_change\n",
    "    \n",
    "    data = file.values[6][0]\n",
    "    data = data.split(';')\n",
    "    array = np.array(data)\n",
    "    array = array.astype(np.float)\n",
    "    Left_Top_Corner = array[0]\n",
    "    sky_temp.append(Left_Top_Corner)\n",
    "    \n",
    "    "
   ]
  },
  {
   "cell_type": "code",
   "execution_count": 5,
   "metadata": {},
   "outputs": [
    {
     "data": {
      "text/plain": [
       "[<matplotlib.lines.Line2D at 0x2b4c5804d730>]"
      ]
     },
     "execution_count": 5,
     "metadata": {},
     "output_type": "execute_result"
    },
    {
     "data": {
      "image/png": "[encoded data removed]",
      "text/plain": [
       "<Figure size 432x288 with 1 Axes>"
      ]
     },
     "metadata": {
      "needs_background": "light"
     },
     "output_type": "display_data"
    }
   ],
   "source": [
    "#Plot time series\n",
    "plt.plot(image_time, sky_temp, color='blue')\n",
    "#plt.savefig('Thermal_Time_Series_Second.png')"
   ]
  },
  {
   "cell_type": "code",
   "execution_count": 6,
   "metadata": {},
   "outputs": [],
   "source": [
    "file = pd.read_csv(\"/lcrc/project/waggle/public_html/private/training_data/waggle_area510/mobotix/\"\n",
    "                \"thermal/1618803166_000001_right_336x252_14bit.thermal.celsius.csv\")"
   ]
  },
  {
   "cell_type": "code",
   "execution_count": 7,
   "metadata": {},
   "outputs": [],
   "source": [
    "#Create image list by unpacking data from CSV and placing in correct spot.\n",
    "image_array = []\n",
    "\n",
    "for i in range(file.size):\n",
    "    if i >= 6:\n",
    "        data = file.values[i][0]\n",
    "        data = data.split(';')\n",
    "        array = np.array(data)\n",
    "        array = array.astype(np.float)\n",
    "        image_array.append(array)\n",
    "        "
   ]
  },
  {
   "cell_type": "code",
   "execution_count": 9,
   "metadata": {},
   "outputs": [],
   "source": [
    "#Create mask list with threshold value.\n",
    "mask_col = []\n",
    "\n",
    "for j in image_array:\n",
    "    mask_row = []\n",
    "    for k in range(len(j)):\n",
    "        \n",
    "        if k > 160 and k < 210:\n",
    "            \n",
    "            if j[k] > 19.75:\n",
    "                mask_row.append(1)\n",
    "            else:\n",
    "                mask_row.append(0)\n",
    "                \n",
    "        else:\n",
    "            mask_row.append(0)\n",
    "\n",
    "    mask_col.append(mask_row)"
   ]
  },
  {
   "cell_type": "code",
   "execution_count": 51,
   "metadata": {},
   "outputs": [],
   "source": [
    "#Create mask list with threshold value.\n",
    "mask_col = []\n",
    "\n",
    "for j in image_array:\n",
    "    mask_row = []\n",
    "    for k in range(len(j)):\n",
    "            if j[k] < 2:\n",
    "                mask_row.append(1)\n",
    "            else:\n",
    "                mask_row.append(0)\n",
    "\n",
    "    mask_col.append(mask_row)"
   ]
  },
  {
   "cell_type": "code",
   "execution_count": 52,
   "metadata": {},
   "outputs": [],
   "source": [
    "#create mask array and a find x-y values of for desired area\n",
    "mask_array = np.array(mask_col)\n",
    "x, y = np.nonzero(mask_array)"
   ]
  },
  {
   "cell_type": "code",
   "execution_count": 53,
   "metadata": {},
   "outputs": [
    {
     "data": {
      "image/png": "[encoded data removed]",
      "text/plain": [
       "<PIL.Image.Image image mode=L size=336x252 at 0x2B4C58918EE0>"
      ]
     },
     "execution_count": 53,
     "metadata": {},
     "output_type": "execute_result"
    }
   ],
   "source": [
    "#Create image with with mask array\n",
    "#This shape is a rectangle given the top left corner and botttom right corner\n",
    "shape1 = [(10, 150), (70, 190)]\n",
    "\n",
    "shape2 = [(160, 210), (200, 245)]\n",
    "\n",
    "#Tranform list into array and convert all true values from 1 to 255 as well as use an unsigned 8-bit integer dtype.\n",
    "array = np.array(mask_col).astype('uint8')*255\n",
    "\n",
    "#create image\n",
    "im = Image.fromarray(array)\n",
    "\n",
    "img1 = ImageDraw.Draw(im)\n",
    "img1.rectangle(shape1, fill = 150 , outline =\"red\")\n",
    "#im.save('Mulch_Mask.png')\n",
    "im"
   ]
  },
  {
   "cell_type": "code",
   "execution_count": null,
   "metadata": {},
   "outputs": [],
   "source": []
  }
 ],
 "metadata": {
  "kernelspec": {
   "display_name": "Python 3",
   "language": "python",
   "name": "python3"
  },
  "language_info": {
   "codemirror_mode": {
    "name": "ipython",
    "version": 3
   },
   "file_extension": ".py",
   "mimetype": "text/x-python",
   "name": "python",
   "nbconvert_exporter": "python",
   "pygments_lexer": "ipython3",
   "version": "3.8.5"
  }
 },
 "nbformat": 4,
 "nbformat_minor": 4
}
